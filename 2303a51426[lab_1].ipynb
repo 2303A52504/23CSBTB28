{
  "nbformat": 4,
  "nbformat_minor": 0,
  "metadata": {
    "colab": {
      "provenance": [],
      "toc_visible": true,
      "authorship_tag": "ABX9TyO+5j7+uF0tu2l+rYNfm9vu",
      "include_colab_link": true
    },
    "kernelspec": {
      "name": "python3",
      "display_name": "Python 3"
    },
    "language_info": {
      "name": "python"
    }
  },
  "cells": [
    {
      "cell_type": "markdown",
      "metadata": {
        "id": "view-in-github",
        "colab_type": "text"
      },
      "source": [
        "<a href=\"https://colab.research.google.com/github/2303A52504/23CSBTB28/blob/main/2303a51426%5Blab_1%5D.ipynb\" target=\"_parent\"><img src=\"https://colab.research.google.com/assets/colab-badge.svg\" alt=\"Open In Colab\"/></a>"
      ]
    },
    {
      "cell_type": "code",
      "source": [
        "import numpy as np\n",
        "list={1,5,2,6,7}\n",
        "listl=[3,6,1,8]\n",
        "print(list)\n",
        "print(listl)\n",
        "print(type(list))\n",
        "print(type(listl))"
      ],
      "metadata": {
        "colab": {
          "base_uri": "https://localhost:8080/"
        },
        "id": "2cU9voB-3UG4",
        "outputId": "efb2e403-ffb7-42a8-906e-55e6dbc851f7"
      },
      "execution_count": 8,
      "outputs": [
        {
          "output_type": "stream",
          "name": "stdout",
          "text": [
            "{1, 2, 5, 6, 7}\n",
            "[3, 6, 1, 8]\n",
            "<class 'set'>\n",
            "<class 'list'>\n"
          ]
        }
      ]
    },
    {
      "cell_type": "code",
      "source": [
        "List1 = [\"Geeks\", \"For\", \"Geeks\"]\n",
        "List2 = \"my first lab\"\n",
        "List3 = 4.3\n",
        "List4 = 2j+6\n",
        "List5 = 'My First Lab'\n",
        "print(type(List2))\n",
        "print(type(List3))\n",
        "print(type(List4))\n",
        "print(type(List5))\n",
        "print(\"\\nList Items:  \")\n",
        "print(List1)\n",
        "print(type(List1))\n",
        "print(List1[0])\n",
        "print(List1[2])"
      ],
      "metadata": {
        "colab": {
          "base_uri": "https://localhost:8080/"
        },
        "id": "kJ5cmvTS3kyV",
        "outputId": "b791784f-a13d-4645-8a79-368d640ad019"
      },
      "execution_count": 9,
      "outputs": [
        {
          "output_type": "stream",
          "name": "stdout",
          "text": [
            "<class 'str'>\n",
            "<class 'float'>\n",
            "<class 'complex'>\n",
            "<class 'str'>\n",
            "\n",
            "List Items:  \n",
            "['Geeks', 'For', 'Geeks']\n",
            "<class 'list'>\n",
            "Geeks\n",
            "Geeks\n"
          ]
        }
      ]
    },
    {
      "cell_type": "code",
      "source": [
        "List ={1:\"greek1\",2:'Geeks', 'For':3,'Geeks':6}\n",
        "print(\"\\nList with the use of Mixed Values: \")\n",
        "print(List)\n",
        "print(type(List))"
      ],
      "metadata": {
        "colab": {
          "base_uri": "https://localhost:8080/"
        },
        "id": "ibpIn92-3owb",
        "outputId": "724d069c-371a-4ccc-8323-b6eab29430d0"
      },
      "execution_count": 10,
      "outputs": [
        {
          "output_type": "stream",
          "name": "stdout",
          "text": [
            "\n",
            "List with the use of Mixed Values: \n",
            "{1: 'greek1', 2: 'Geeks', 'For': 3, 'Geeks': 6}\n",
            "<class 'dict'>\n"
          ]
        }
      ]
    }
  ]
}