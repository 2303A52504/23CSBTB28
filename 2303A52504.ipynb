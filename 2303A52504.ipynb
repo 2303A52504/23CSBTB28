{
  "nbformat": 4,
  "nbformat_minor": 0,
  "metadata": {
    "colab": {
      "provenance": [],
      "authorship_tag": "ABX9TyNK98nWc/DMIPMxhV4Hflpm",
      "include_colab_link": true
    },
    "kernelspec": {
      "name": "python3",
      "display_name": "Python 3"
    },
    "language_info": {
      "name": "python"
    }
  },
  "cells": [
    {
      "cell_type": "markdown",
      "metadata": {
        "id": "view-in-github",
        "colab_type": "text"
      },
      "source": [
        "<a href=\"https://colab.research.google.com/github/2303A52504/23CSBTB50/blob/main/2303A52504.ipynb\" target=\"_parent\"><img src=\"https://colab.research.google.com/assets/colab-badge.svg\" alt=\"Open In Colab\"/></a>"
      ]
    },
    {
      "cell_type": "code",
      "execution_count": 21,
      "metadata": {
        "colab": {
          "base_uri": "https://localhost:8080/"
        },
        "id": "7Lyrp7g4tL3b",
        "outputId": "cbfaa46e-fec8-40c8-d8b9-ed92704608fa"
      },
      "outputs": [
        {
          "output_type": "stream",
          "name": "stdout",
          "text": [
            "[0 1 2 3]\n",
            "[1, 2, 3, 4, 5, 5, 4, 3, 2, 1]\n",
            "[1 1 2 2 3 3 4 4 5 5]\n",
            "[[1 2]\n",
            " [3 4]\n",
            " [5 5]\n",
            " [4 3]\n",
            " [2 1]]\n",
            "[[1 2]\n",
            " [3 4]\n",
            " [5 5]\n",
            " [3 4]\n",
            " [1 2]]\n",
            "[[1]\n",
            " [2]\n",
            " [3]\n",
            " [4]\n",
            " [5]\n",
            " [5]\n",
            " [4]\n",
            " [3]\n",
            " [2]\n",
            " [1]]\n",
            "[[1]\n",
            " [2]\n",
            " [3]\n",
            " [4]\n",
            " [5]\n",
            " [5]\n",
            " [4]\n",
            " [3]\n",
            " [2]\n",
            " [1]]\n",
            "[[1 2 3 4 5]\n",
            " [5 4 3 2 1]]\n",
            "[[1 2 3 4 5]\n",
            " [1 2 3 4 5]]\n",
            "[[1]\n",
            " [2]\n",
            " [3]\n",
            " [4]\n",
            " [5]\n",
            " [5]\n",
            " [4]\n",
            " [3]\n",
            " [2]\n",
            " [1]]\n",
            "[[1]\n",
            " [2]\n",
            " [3]\n",
            " [4]\n",
            " [5]\n",
            " [5]\n",
            " [4]\n",
            " [3]\n",
            " [2]\n",
            " [1]]\n"
          ]
        }
      ],
      "source": [
        "import numpy as np\n",
        "arr=np.array([3,2,0,1])\n",
        "print(np.sort(arr))\n",
        "a=[1,2,3,4,5]\n",
        "b=[5,4,3,2,1]\n",
        "c=a+b\n",
        "print(c)\n",
        "c=np.array(c)\n",
        "print(np.sort(c))\n",
        "c=c.reshape(5,2)\n",
        "print(c)\n",
        "print(np.sort(c))\n",
        "c=c.reshape(10,1)\n",
        "print(c)\n",
        "print(np.sort(c))\n",
        "c=c.reshape(2,5)\n",
        "print(c)\n",
        "print(np.sort(c))\n",
        "c=c.reshape(10,1)\n",
        "print(c)\n",
        "print(np.sort(c))\n",
        "\n",
        ""
      ]
    },
    {
      "cell_type": "code",
      "source": [],
      "metadata": {
        "id": "5tqc9Mv4vED4"
      },
      "execution_count": null,
      "outputs": []
    }
  ]
}